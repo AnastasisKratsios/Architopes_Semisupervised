{
 "cells": [
  {
   "cell_type": "markdown",
   "metadata": {},
   "source": [
    "# Proof of Concept Demo"
   ]
  },
  {
   "cell_type": "code",
   "execution_count": 12,
   "metadata": {},
   "outputs": [],
   "source": [
    "# #------------------------------------#\n",
    "# # Only For Motivational Example Only #\n",
    "# #------------------------------------#\n",
    "# ## Hyperparameters\n",
    "# percentage_in_row = .5\n",
    "# N = 50\n",
    "\n",
    "# def f_1(x):\n",
    "#     return x\n",
    "# def f_2(x):\n",
    "#     return x**2\n",
    "# x_0 = 0\n",
    "# x_end = 1\n",
    "\n",
    "# test_size_ratio = 1"
   ]
  },
  {
   "cell_type": "markdown",
   "metadata": {},
   "source": [
    "## Initializations"
   ]
  },
  {
   "cell_type": "code",
   "execution_count": 13,
   "metadata": {},
   "outputs": [],
   "source": [
    "import numpy as np\n",
    "import pandas as pd\n",
    "from random import uniform\n",
    "import matplotlib.pyplot as plt\n",
    "from matplotlib.pyplot import figure\n",
    "import tensorflow as tf\n",
    "import sklearn.model_selection as sk"
   ]
  },
  {
   "cell_type": "code",
   "execution_count": 16,
   "metadata": {},
   "outputs": [],
   "source": [
    "# Initializations\n",
    "## Counters & Related\n",
    "n = int(round(percentage_in_row*N))\n",
    "dt = x_end/N\n",
    "x_current = x_0\n",
    "i = 0\n",
    "## Containers\n",
    "x_1 = []\n",
    "y_1 = []\n",
    "x_2 = []\n",
    "y_2 = []\n",
    "## Build Pattern\n",
    "while x_current < x_end:\n",
    "    # Sample Current Point\n",
    "    x = uniform(x_current, x_current+dt)\n",
    "    # Check which pattern it belongs to\n",
    "    if i % n <= round(n/2):\n",
    "        x_1.append(x)\n",
    "        y_1.append(f_1(x))\n",
    "    else:\n",
    "        x_2.append(x)\n",
    "        y_2.append(f_2(x))\n",
    "    # Update\n",
    "    x_current = x_current + dt\n",
    "    i = i+1\n",
    "\n",
    "x = [*x_1, *x_2]\n",
    "y = [*y_1, *y_2]"
   ]
  },
  {
   "cell_type": "code",
   "execution_count": 17,
   "metadata": {},
   "outputs": [
    {
     "data": {
      "text/plain": [
       "<matplotlib.collections.PathCollection at 0x7f93dc349b10>"
      ]
     },
     "execution_count": 17,
     "metadata": {},
     "output_type": "execute_result"
    },
    {
     "data": {
      "image/png": "[encoded data removed]",
      "text/plain": [
       "<Figure size 640x480 with 1 Axes>"
      ]
     },
     "metadata": {},
     "output_type": "display_data"
    }
   ],
   "source": [
    "figure(num=None, figsize=(8, 6), dpi=80, facecolor='w', edgecolor='k')\n",
    "plt.scatter(x_1,y_1)\n",
    "plt.scatter(x_2,y_2)"
   ]
  },
  {
   "cell_type": "markdown",
   "metadata": {},
   "source": [
    "# Split Training and Testing Datasets"
   ]
  },
  {
   "cell_type": "code",
   "execution_count": 36,
   "metadata": {},
   "outputs": [],
   "source": [
    "if test_size_ratio < 1:\n",
    "    # Generate\n",
    "    X_train, X_test, y_train, y_test = sk.train_test_split(x,\n",
    "                                                           y,\n",
    "                                                           test_size=test_size_ratio,\n",
    "                                                           random_state=42)\n",
    "    # Format\n",
    "    X_train = pd.DataFrame({\"X\": X_train})\n",
    "    X_test = pd.DataFrame({\"X\": X_test})\n",
    "    data_y = pd.DataFrame({\"X\": y_train})\n",
    "    data_y_test = pd.DataFrame({\"X\": y_test})\n",
    "else:\n",
    "    # Format\n",
    "    X_train = pd.DataFrame({\"X\": x})\n",
    "    X_test = pd.DataFrame({\"X\": x})\n",
    "    data_y = pd.DataFrame({\"X\": y})\n",
    "    data_y_test = pd.DataFrame({\"X\": y})\n",
    "    y_train = data_y\n",
    "    y_test = data_y_test\n",
    "\n",
    "# Coersion\n",
    "y_train = np.array(y_train).reshape(-1)\n",
    "y_test = np.array(y_test).reshape(-1)"
   ]
  },
  {
   "cell_type": "markdown",
   "metadata": {},
   "source": [
    "### Split Sub-Patterns"
   ]
  },
  {
   "cell_type": "code",
   "execution_count": 30,
   "metadata": {},
   "outputs": [],
   "source": [
    "# Split Datasets\n",
    "X1_train, X1_test, y1_train, y1_test = sk.train_test_split(x_1,\n",
    "                                                    y_1,\n",
    "                                                    test_size=test_size_ratio,\n",
    "                                                    random_state=42)\n",
    "X2_train, X2_test, y2_train, y2_test = sk.train_test_split(x_2,\n",
    "                                                    y_2,\n",
    "                                                    test_size=test_size_ratio,\n",
    "                                                    random_state=42)"
   ]
  },
  {
   "cell_type": "markdown",
   "metadata": {},
   "source": [
    "# Oracle Model:"
   ]
  },
  {
   "cell_type": "code",
   "execution_count": 31,
   "metadata": {},
   "outputs": [],
   "source": [
    "# # example of a model defined with the sequential api\n",
    "# from tensorflow.keras import Sequential\n",
    "# from tensorflow.keras.layers import Dense\n",
    "# # define the model\n",
    "# opt = tf.keras.optimizers.Adam(learning_rate=0.001)\n",
    "# NN_model = Sequential()\n",
    "\n",
    "# # The Input Layer :\n",
    "# NN_model.add(Dense(100, kernel_initializer='normal',input_dim = 1, activation='relu'))\n",
    "\n",
    "# # The Output Layer :\n",
    "# NN_model.add(Dense(1, kernel_initializer='normal',activation='linear'))\n",
    "\n",
    "# # Compile the network :\n",
    "# NN_model.compile(loss='mean_absolute_error', optimizer=opt, metrics=['mean_absolute_error'])\n",
    "# NN_model.summary()\n",
    "\n",
    "\n",
    "# NN_model.fit(X1_train, y1_train, epochs=500, batch_size=32)"
   ]
  },
  {
   "cell_type": "markdown",
   "metadata": {},
   "source": [
    "---"
   ]
  }
 ],
 "metadata": {
  "kernelspec": {
   "display_name": "Python 3",
   "language": "python",
   "name": "python3"
  },
  "language_info": {
   "codemirror_mode": {
    "name": "ipython",
    "version": 3
   },
   "file_extension": ".py",
   "mimetype": "text/x-python",
   "name": "python",
   "nbconvert_exporter": "python",
   "pygments_lexer": "ipython3",
   "version": "3.7.7"
  }
 },
 "nbformat": 4,
 "nbformat_minor": 5
}
